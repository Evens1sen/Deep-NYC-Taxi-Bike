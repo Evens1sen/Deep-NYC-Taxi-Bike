{
 "cells": [
  {
   "cell_type": "code",
   "execution_count": 2,
   "metadata": {},
   "outputs": [],
   "source": [
    "import numpy as np"
   ]
  },
  {
   "cell_type": "code",
   "execution_count": 4,
   "metadata": {},
   "outputs": [],
   "source": [
    "taxi_inflow = np.load(\"/home/cseadmin/mhy/data-NYCTaxi/60min/2019-2020-graph-inflow.npz\")['arr_0']\n",
    "taxi_outflow = np.load(\"/home/cseadmin/mhy/data-NYCTaxi/60min/2019-2020-graph-outflow.npz\")['arr_0']\n",
    "\n",
    "taxi_flow = np.zeros((taxi_inflow.shape[0], taxi_inflow.shape[1], 2))\n",
    "taxi_flow[:, :, 0] = taxi_inflow.copy()\n",
    "taxi_flow[:, :, 1] = taxi_outflow.copy()\n",
    "\n",
    "np.savez_compressed(\"../data-NYCTaxi/60min/taxi_inoutflow.npz\", taxi_flow)"
   ]
  },
  {
   "cell_type": "code",
   "execution_count": 15,
   "metadata": {},
   "outputs": [
    {
     "data": {
      "text/plain": [
       "(17544, 69, 2)"
      ]
     },
     "execution_count": 15,
     "metadata": {},
     "output_type": "execute_result"
    }
   ],
   "source": [
    "bike_flow = np.load(\"/home/cseadmin/mhy/data-NYCBike/60min/2019-2020-graph-inoutflow.npz\")['arr_0']\n",
    "taxi_flow = np.load(\"/home/cseadmin/mhy/data-NYCTaxi/60min/taxi_inoutflow.npz\")['arr_0']\n",
    "\n",
    "taxi_flow.shape"
   ]
  },
  {
   "cell_type": "code",
   "execution_count": 15,
   "metadata": {},
   "outputs": [],
   "source": [
    "flow = np.zeros((bike_flow.shape[0], bike_flow.shape[1],  4))\n",
    "flow[:, :, 0:2] = bike_flow.copy()\n",
    "flow[:, :, 2:4] = taxi_flow.copy()\n",
    "\n",
    "np.savez_compressed(\"../data-NYCTaxi/60min/bike_taxi_inoutflow.npz\", flow)"
   ]
  },
  {
   "cell_type": "code",
   "execution_count": 23,
   "metadata": {},
   "outputs": [
    {
     "data": {
      "text/plain": [
       "array([[ 1.,  0.,  4., ...,  0.,  0.,  3.],\n",
       "       [ 7.,  0.,  2., ...,  0.,  2.,  2.],\n",
       "       [ 4.,  0.,  2., ...,  2.,  0.,  0.],\n",
       "       ...,\n",
       "       [ 9.,  0.,  3., ...,  2.,  2., 23.],\n",
       "       [ 7.,  0.,  2., ...,  2.,  5.,  9.],\n",
       "       [ 2.,  0.,  9., ...,  4.,  0.,  8.]])"
      ]
     },
     "execution_count": 23,
     "metadata": {},
     "output_type": "execute_result"
    }
   ],
   "source": [
    "hour_flow = np.load(\"/home/cseadmin/mhy/data-NYCTaxi/60min/bike_taxi_inoutflow.npz\")['arr_0']\n",
    "half_hour_flow = np.load(\"/home/cseadmin/mhy/data-NYCTaxi/30min/bike_taxi_inoutflow.npz\")['arr_0']\n",
    "\n",
    "hour_flow[:, :, 0]"
   ]
  },
  {
   "cell_type": "code",
   "execution_count": 24,
   "metadata": {},
   "outputs": [
    {
     "data": {
      "text/plain": [
       "array([[1., 0., 0., ..., 0., 0., 1.],\n",
       "       [0., 0., 0., ..., 0., 0., 1.],\n",
       "       [2., 0., 2., ..., 0., 0., 0.],\n",
       "       ...,\n",
       "       [2., 0., 1., ..., 0., 1., 5.],\n",
       "       [1., 0., 0., ..., 1., 0., 5.],\n",
       "       [2., 0., 5., ..., 0., 1., 7.]])"
      ]
     },
     "execution_count": 24,
     "metadata": {},
     "output_type": "execute_result"
    }
   ],
   "source": [
    "half_hour_flow[:, :, 0]"
   ]
  },
  {
   "cell_type": "code",
   "execution_count": null,
   "metadata": {},
   "outputs": [],
   "source": []
  }
 ],
 "metadata": {
  "interpreter": {
   "hash": "4eaddab6d53e3430d65e281d179b4d2e07f5e3825831a8a8ccb553d0c5f6e5f0"
  },
  "kernelspec": {
   "display_name": "Python 3 (ipykernel)",
   "language": "python",
   "name": "python3"
  },
  "language_info": {
   "codemirror_mode": {
    "name": "ipython",
    "version": 3
   },
   "file_extension": ".py",
   "mimetype": "text/x-python",
   "name": "python",
   "nbconvert_exporter": "python",
   "pygments_lexer": "ipython3",
   "version": "3.7.5"
  }
 },
 "nbformat": 4,
 "nbformat_minor": 2
}
